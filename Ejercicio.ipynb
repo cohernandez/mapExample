{
 "cells": [
  {
   "cell_type": "code",
   "execution_count": 1,
   "metadata": {},
   "outputs": [
    {
     "ename": "ModuleNotFoundError",
     "evalue": "No module named 'geopandas'",
     "output_type": "error",
     "traceback": [
      "\u001b[0;31m---------------------------------------------------------------------------\u001b[0m",
      "\u001b[0;31mModuleNotFoundError\u001b[0m                       Traceback (most recent call last)",
      "\u001b[0;32m<ipython-input-1-77772fe70824>\u001b[0m in \u001b[0;36m<module>\u001b[0;34m\u001b[0m\n\u001b[1;32m      1\u001b[0m \u001b[0;32mimport\u001b[0m \u001b[0mnumpy\u001b[0m \u001b[0;32mas\u001b[0m \u001b[0mnp\u001b[0m\u001b[0;34m\u001b[0m\u001b[0;34m\u001b[0m\u001b[0m\n\u001b[0;32m----> 2\u001b[0;31m \u001b[0;32mimport\u001b[0m \u001b[0mgeopandas\u001b[0m \u001b[0;32mas\u001b[0m \u001b[0mgp\u001b[0m\u001b[0;34m\u001b[0m\u001b[0;34m\u001b[0m\u001b[0m\n\u001b[0m\u001b[1;32m      3\u001b[0m \u001b[0;32mfrom\u001b[0m \u001b[0mshapely\u001b[0m\u001b[0;34m.\u001b[0m\u001b[0mgeometry\u001b[0m \u001b[0;32mimport\u001b[0m \u001b[0mPoint\u001b[0m\u001b[0;34m\u001b[0m\u001b[0;34m\u001b[0m\u001b[0m\n\u001b[1;32m      4\u001b[0m \u001b[0;34m\u001b[0m\u001b[0m\n\u001b[1;32m      5\u001b[0m \u001b[0;31m# carga los poligonos de los municipios y la lista de antenas\u001b[0m\u001b[0;34m\u001b[0m\u001b[0;34m\u001b[0m\u001b[0;34m\u001b[0m\u001b[0m\n",
      "\u001b[0;31mModuleNotFoundError\u001b[0m: No module named 'geopandas'"
     ]
    }
   ],
   "source": [
    "import numpy as np\n",
    "import geopandas as gp\n",
    "from shapely.geometry import Point\n",
    "\n",
    "# carga los poligonos de los municipios y la lista de antenas\n",
    "stations = gp.read_file(\"espana-municipios.geojson\")\n",
    "data = np.loadtxt(\"output.node_to_coords\")\n",
    "\n",
    "# selecciona los municipios de una provicia, en este caso Ponteveda, por ejemplo\n",
    "lista = stations[stations.provincia=='Tarragona'].geometry\n",
    "\n",
    "# hacemos un bucle por cada antena buscando si está en alguno de los municipios de Pontevedra (within)\n",
    "filtroAntenas=[]\n",
    "for antena in data:\n",
    "    p1=Point(antena[1],antena[2])\n",
    "    for poly in lista:\n",
    "        if p1.within(poly):\n",
    "            filtroAntenas.append(antena)\n",
    "            break\n",
    "            \n",
    "# en filtroAntenas nos quedarán las antenas de Pontevedra\n",
    "np.savetxt('filtroAntenas.dat', filtroAntenas, fmt='%i,%.4f,%.4f', delimiter='\\t')"
   ]
  },
  {
   "cell_type": "code",
   "execution_count": 2,
   "metadata": {},
   "outputs": [
    {
     "ename": "ModuleNotFoundError",
     "evalue": "No module named 'folium'",
     "output_type": "error",
     "traceback": [
      "\u001b[0;31m---------------------------------------------------------------------------\u001b[0m",
      "\u001b[0;31mModuleNotFoundError\u001b[0m                       Traceback (most recent call last)",
      "\u001b[0;32m<ipython-input-2-e13169408a37>\u001b[0m in \u001b[0;36m<module>\u001b[0;34m\u001b[0m\n\u001b[1;32m      1\u001b[0m \u001b[0;31m# pintamos las antenas en un mapa interactivo\u001b[0m\u001b[0;34m\u001b[0m\u001b[0;34m\u001b[0m\u001b[0;34m\u001b[0m\u001b[0m\n\u001b[0;32m----> 2\u001b[0;31m \u001b[0;32mimport\u001b[0m \u001b[0mfolium\u001b[0m\u001b[0;34m\u001b[0m\u001b[0;34m\u001b[0m\u001b[0m\n\u001b[0m\u001b[1;32m      3\u001b[0m \u001b[0;32mfrom\u001b[0m \u001b[0mfolium\u001b[0m\u001b[0;34m.\u001b[0m\u001b[0mplugins\u001b[0m \u001b[0;32mimport\u001b[0m \u001b[0mMarkerCluster\u001b[0m\u001b[0;34m\u001b[0m\u001b[0;34m\u001b[0m\u001b[0m\n\u001b[1;32m      4\u001b[0m \u001b[0;34m\u001b[0m\u001b[0m\n\u001b[1;32m      5\u001b[0m \u001b[0;31m# creamos el mapa centrado en el punto medio de las antenas incluidas\u001b[0m\u001b[0;34m\u001b[0m\u001b[0;34m\u001b[0m\u001b[0;34m\u001b[0m\u001b[0m\n",
      "\u001b[0;31mModuleNotFoundError\u001b[0m: No module named 'folium'"
     ]
    }
   ],
   "source": [
    "# pintamos las antenas en un mapa interactivo\n",
    "import folium\n",
    "from folium.plugins import MarkerCluster\n",
    "\n",
    "# creamos el mapa centrado en el punto medio de las antenas incluidas\n",
    "center=np.array(filtroAntenas).mean(0)\n",
    "my_map = folium.Map(location = [center[2],center[1]], zoom_start = 9)\n",
    "marker_cluster = MarkerCluster().add_to(my_map)\n",
    "\n",
    "# cargamos las antenas como markers, pero en cluster paraque no sea muy pesado\n",
    "for antena in filtroAntenas:\n",
    "    folium.Marker(location=[antena[2],antena[1]]).add_to(marker_cluster)\n",
    "    \n",
    "# cargamos los polígonos de los municipios\n",
    "for poly in lista:    \n",
    "    folium.GeoJson(poly.__geo_interface__).add_to(my_map)\n",
    "\n",
    "#Display the map\n",
    "my_map"
   ]
  },
  {
   "cell_type": "code",
   "execution_count": null,
   "metadata": {
    "collapsed": true
   },
   "outputs": [],
   "source": []
  }
 ],
 "metadata": {
  "kernelspec": {
   "display_name": "Python 3",
   "language": "python",
   "name": "python3"
  },
  "language_info": {
   "codemirror_mode": {
    "name": "ipython",
    "version": 3
   },
   "file_extension": ".py",
   "mimetype": "text/x-python",
   "name": "python",
   "nbconvert_exporter": "python",
   "pygments_lexer": "ipython3",
   "version": "3.8.5"
  }
 },
 "nbformat": 4,
 "nbformat_minor": 2
}
